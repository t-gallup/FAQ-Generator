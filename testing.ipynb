{
 "cells": [
  {
   "cell_type": "code",
   "execution_count": 5,
   "metadata": {},
   "outputs": [],
   "source": [
    "import dotenv\n",
    "import os\n",
    "dotenv.load_dotenv()\n",
    "openai_api_key = os.getenv(\"OPENAI_API_KEY\")"
   ]
  },
  {
   "cell_type": "code",
   "execution_count": 17,
   "metadata": {},
   "outputs": [
    {
     "name": "stderr",
     "output_type": "stream",
     "text": [
      "Fetching pages: 100%|##########| 1/1 [00:00<00:00,  2.40it/s]\n"
     ]
    }
   ],
   "source": [
    "from langchain_community.document_loaders import AsyncHtmlLoader\n",
    "from langchain_community.document_transformers import BeautifulSoupTransformer\n",
    "import pprint\n",
    "from langchain_text_splitters import RecursiveCharacterTextSplitter\n",
    "import asyncio\n",
    "\n",
    "\n",
    "# Load HTML\n",
    "async def load_html():\n",
    "    loader = AsyncHtmlLoader([\"https://en.wikipedia.org/wiki/OpenAI\"])\n",
    "    html = loader.load()\n",
    "    bs_transformer = BeautifulSoupTransformer()\n",
    "    docs_transformed = bs_transformer.transform_documents(html, tags_to_extract=[\"span\"])\n",
    "    return docs_transformed\n",
    "docs_transformed = await load_html()\n",
    "doc_string = \"\"\n",
    "for doc in docs_transformed:\n",
    "    doc_string += doc.page_content\n"
   ]
  },
  {
   "cell_type": "code",
   "execution_count": 69,
   "metadata": {},
   "outputs": [
    {
     "data": {
      "text/plain": [
       "211"
      ]
     },
     "execution_count": 69,
     "metadata": {},
     "output_type": "execute_result"
    }
   ],
   "source": [
    "import spacy\n",
    "def overlapping_chunking(doc_string, max_sentences, overlapping_sentences):\n",
    "    nlp = spacy.load(\"en_core_web_sm\")\n",
    "    doc = nlp(doc_string)\n",
    "    sentences = [s.text for s in doc.sents]\n",
    "    chunks = []\n",
    "    curr_ind = 0\n",
    "    while curr_ind < len(sentences):\n",
    "        endpoint = min(curr_ind + max_sentences, len(sentences))\n",
    "        chunk = ' '.join(sentences[curr_ind: endpoint])\n",
    "        chunks.append(chunk)\n",
    "        curr_ind += max_sentences - overlapping_sentences\n",
    "    return chunks\n",
    "chunks = overlapping_chunking(doc_string, 8, 2)\n",
    "len(chunks)"
   ]
  },
  {
   "cell_type": "code",
   "execution_count": 70,
   "metadata": {},
   "outputs": [
    {
     "data": {
      "text/plain": [
       "2513"
      ]
     },
     "execution_count": 70,
     "metadata": {},
     "output_type": "execute_result"
    }
   ],
   "source": [
    "max_chunk_size = float('-inf')\n",
    "for chunk in chunks:\n",
    "    max_chunk_size = max(max_chunk_size, len(chunk))\n",
    "max_chunk_size"
   ]
  },
  {
   "cell_type": "code",
   "execution_count": 47,
   "metadata": {},
   "outputs": [
    {
     "name": "stdout",
     "output_type": "stream",
     "text": [
      "1\n"
     ]
    }
   ],
   "source": [
    "import os\n",
    "os.environ[\"PYTORCH_ENABLE_MPS_FALLBACK\"] = \"1\"\n",
    "print(os.environ[\"PYTORCH_ENABLE_MPS_FALLBACK\"])"
   ]
  },
  {
   "cell_type": "code",
   "execution_count": 84,
   "metadata": {},
   "outputs": [
    {
     "name": "stderr",
     "output_type": "stream",
     "text": [
      "Asking to truncate to max_length but no maximum length is provided and the model has no predefined maximum length. Default to no truncation.\n"
     ]
    },
    {
     "name": "stdout",
     "output_type": "stream",
     "text": [
      "1024\n",
      "2310\n",
      "1024\n",
      "2090\n",
      "1024\n",
      "2732\n",
      "1024\n",
      "2610\n",
      "1024\n",
      "2577\n",
      "1024\n",
      "2742\n",
      "1024\n",
      "2756\n",
      "1024\n",
      "2804\n",
      "1024\n",
      "2678\n",
      "1024\n",
      "2658\n",
      "1024\n",
      "2740\n",
      "1024\n",
      "2642\n",
      "1024\n",
      "2540\n",
      "1024\n",
      "2486\n",
      "1024\n",
      "2695\n",
      "1024\n",
      "2649\n",
      "1024\n",
      "2614\n",
      "1024\n",
      "2781\n",
      "1024\n",
      "2715\n",
      "1024\n",
      "2846\n",
      "1024\n",
      "2599\n",
      "1024\n",
      "2621\n",
      "1024\n",
      "2488\n",
      "1024\n",
      "3186\n",
      "1024\n",
      "2656\n",
      "1024\n",
      "2808\n",
      "1024\n",
      "2705\n",
      "1024\n",
      "2406\n",
      "1024\n",
      "2606\n",
      "1024\n",
      "2727\n",
      "1024\n",
      "2642\n",
      "1024\n",
      "2789\n",
      "1024\n",
      "2595\n",
      "1024\n",
      "2495\n",
      "1024\n",
      "2724\n",
      "1024\n",
      "2583\n",
      "1024\n",
      "2660\n",
      "1024\n",
      "2675\n",
      "1024\n",
      "2625\n",
      "1024\n",
      "2677\n",
      "1024\n",
      "2790\n",
      "1024\n",
      "2606\n",
      "982\n",
      "2582\n"
     ]
    },
    {
     "data": {
      "text/plain": [
       "'OpenAI\\'s original GPT model (\"GPT-1\") 5.3.2 GPT-2 53.3 G PT-3 5.4 Codex 5.5 GPT4 5.6 o1 5.7 Whisper 5.8 Music generation 5.9.1 MuseNet 5.1.2 Jukebox 5.2.3 ChatGPT 5.10 Stargate and other supercomputers. Firing of Altman 6.2 Content moderation contract with Sama 6.3 Lack of technological transparency 6.5 Copyright infringement in training data 6.6 GDPR compliance 6.7 Removal of military and warfare clause 6.8 Use in state-backed influence operations 6.9 Data This page includes the following links. Use this page to help people with reading comprehension and vocabulary. Use the weekly Newsquiz to test your knowledge of stories you saw on this page. The Daily Discussion offers the chance to share your feedback on articles. At the bottom of the page, please share your thoughts on the articles you saw. The term \"pre-training\" refers to general language training as distinct from fine-tuning for specific tasks. One petaflop/s-day is approximately equal to 10 20 neural net operations. OpenAI\\'s losses roughly doubled to around $540 million last year as it developed ChatGPT. OpenAI\\'s AGI safety team has been gutted, says ex-researcher. \"Sam Altman on His Plan to Keep A.I. Out of the Hands of the \"Bad Guys\" (https://www.vanityfair.com/news/2015/12/sam-altman-elonk-musk-ai) \" Elon Musk\\'s Neuralink Sought to Open an Animal Testing Facility in San Francisco. \"The messy, secretive reality behind OpenAI\\'s bid to save the world\" (https://www.technologyreview.com/s/615181/ai-openai-moonshot-elon-musk-sam-altman-greg-brockman-messy-secretive-reality) \" $1 Trillion Club\" (https://www.bloomberg.com/news/features/2023-06-15/n Nvidia-s-ai-chips-power-chatgpt-and-multibillion-dollar-surge) from the original on June 18, 2023. \"Elon Musk\\'s Lab Wants to Teach Computers to Use Apps Just Like Humans Do\" \"OpenAI\\'s Universe is the fun parent every artificial intelligence deserves\" \"Microsoft to invest $1\\xa0billion in OpenAI\" \"Microsoft invests in and partners with OpenAI\" (https://openai.com/blog/Microsoft-invests-in-and-partners-with-openai). July 2019. \"To Compete With Google, OpenAI Seeks Investors–and Profits\" (February 14, 2019) \"A.I. Researchers Are Making More Than $1 Million, Even at a Nonprofit\" (April 19, 2018) Microsoft\\'s OpenAI supercomputer has 285,000 CPU cores, 10,000 GPUs. It\\'s one of the five fastest systems in the world. Built in collaboration with and exclusively for OpenAI. \"Microsoft invests $1\\xa0billion in OpenAI to pursue holy grail of artificial intelligence\" Microsoft Adds $10 billion to its AI investment in ChatGPT. OpenAI has raised $124 million in funding so far. The company is expected to reach $1 billion in revenue by 2024. It is also in talks to raise an additional $100 million in new funding. \"Microsoft announces multibillion-dollar investment in ChatGPT-maker OpenAI\" (https://www.cnbc.com/2023/01/23/Microsoft-announces-multibillions-dollar-investment-in-chatgpt-maker-openai.html) from the original on January 23, 2023. \"Google\\'s AI chatbot Bard makes factual error in first demo\" \"Microsoft Adds ChatGpt AI Technology to Bing Search Engine\" \"Governance of superintelligence\" (https://openai.com/blog/governance-of-superintelligence) from the original on May 27, 2023. \"OpenAI acquires start-up Global Illumination to work on core products, ChatGPT\" \"Microsoft\\'s unified Copilot is coming to Windows, Edge, and everywhere else\" \" Microsoft\\'s Copilot app is now available on iOS\" \"OpenAI Launches Custom ChatGPT Versions\" (https://www.nytimes.com/2023/11/06/technology/openai-custom-chatgpt.html) from the original on November 12, 2023. \"OpenAI announces team to build \\'crowdsourced\\' governance ideas into its models\" (January 16, 2024). \"Openai announces first partnership with a university\" (February 28, 2024) \"SEC Investigating Whether Open Investors Were misled by OpenAI\" Elon Musk is suing OpenAI and Sam Altman for violating the company\\'s principles. The lawsuit was filed in the Superior Court of California, County of San Francisco. The suit was filed on March 1, 2024, and is expected to be settled by the end of March 2024. \"OpenAI ridicules Elon Musk\\'s \\'incoherent\\' lawsuit\" (https://edition.cnn.com/2024/03/11/tech/openai-elon-musk-lawsuit-response/index.html). CNN. March 11, 2024. \"I lost trust\": Why the OpenAI team in charge of safeguarding humanity imploded\" (http://www.vox.org/future-perfect/20 24/5/17/24158403/ openai-resignations-ai-safety-ilya-sutskever-jan-leike-artificial-intelligence) \"Team Has Disbanded\" (https://www.wired.com/story/openai-superalignment-team-disbanded) \"Reddit and OpenAI Build Partnership - Upvoted\" \"Journalists \"deeply troubled\" by OpenAI\\'s content deals with Vox, The Atlantic\" OpenAI is working on new reasoning technology under code name \\'Strawberry\\' The company has released its first model with\\'reasoning\\' abilities. The company is also working on a voice-activated assistant called Siri. OpenAI is currently in the early stages of development. \"OpenAI gets a new president, CTO & COO in the latest rejig\" (https://analyticsindiamag.com/openai-gets-a-new-president-cto-coo-in-the-latest-rejig) from the original on October 16, 2022. \"Elon Musk, Peter Thiel, Reid Hoffman, others back $1\\xa0billion OpenAI research center\" (http://www.mercurynews.com./business/ci_29256196/elon-musk-peter-thiel-reid-hoffman-others-back-openAI-research-center.html) from January 5, 2016 \"About OpenAI\" (https://openai.com/about/). OpenAI. December 11, 2015. Archived from the original on December 22, 2017. \"#cite_ref-108) \"Elon Musk, Infosys, others back OpenAI with $1 bn\" \"Why Elon Musk fears artificial intelligence\" (November 2, 2018) \"Elon Musk\\'s Billion-Dollar AI Plan Is About Far More Than Saving the World\" (https://www.wired.com/2015/12/elon-musks-billion-dollar-ai-plan-is-about-far-more-than-saving-the-world) \"Sam Altman\\'s Manifest Destiny\" (http.newyorker.com /magazine/2016/10/10 /sam-altmans-manifest-destiny). The New Yorker. No. 10, October 10, 2016. The team that has been maintaining Gym since 2021 has moved all future development to Gymnasium, a drop in replacement for Gym. Gym will not be receiving any future updates. The team behind the Goofy-Wrestling Bots are no longer working with OpenAI. \"My favorite game has been invaded by killer AI bots and Elon Musk hype\" (https://www.theverge.com/2017/8/14/16141938/dota-2-openai-bots-elon-musk-artificial-intelligence) from the original on June 26, 2018. \"#cite_ref-129) Savov, Vlad (August 14, 2017). \"My favoritegame has been invasion by killerAI bots and Musk hype.\" (https:www. theverger.co.uk/news/articles/2018-06-25/musK-backed-bot-conquers-e-gamer-teams-in-ai-break \"The International 2018: Results\" (https://blog.openai.com/the-international-2018-results/). blog.openAI.com. July 18, 2018. Archived on February 13, 2019. (#cite_ref-137) Vincent, James (June 25, 2018). \"AI bots trained for 180 years a day to beat humans at Dota 2\" \"Pro Gamers Fend off Elon Musk-Backed AI Bots—for Now\" OpenAI\\'s Dota 2 bot defeated 99.4% of players in public matches, according to Venture Beat. #cite_ref-145: Fangasadha, Edbert Felix, Soeroredjo, Steffi; Anderies; Gunawan, Alexander Agung Santoso (September 17, 2022). \"Literature Review of OpenAI Five\\'s Mechanisms in Dota 2\\'s Bot Player\". IEEE. Commercializing the technology helps us pay for our ongoing AI research, safety, and policy efforts. We\\'re hopeful that the API will make powerful AI systems more accessible to smaller businesses and organizations. Since it is hard to predict the downstream use cases of our models, it feels inherently safer to release them via an API. \"GPT-2: 1.5B Release\" (https://openai.com/blog/gpt-2-1-5b-release/). OpenAI. November 5, 2019. Archived (https:web.archive.org/web/20191114074358/https:// openai. com/blog/. Retrieved July 16, 2020. (#cite_ref-157) \"Write With Transformer\" (http://transformer.huggingface.co/). Archived  on December 4, 2019, retrieved December 4. #cite-ref-159) \"CreativeEngines\" ( http://creativeengines.ai/). A petaflop/s-day (pfs-day) consists of performing 10 15 neural net operations per second for one day. The compute-time product serves as a mental convenience, similar to kW-hr for energy. Since we increase the capacity by over two orders of magnitude from GPT-2 to Gpt-3. \"OpenAI warns AI behind GitHub\\'s Copilot may be susceptible to bias\" (July 8, 2021). \"OpenAI might Invite Legal Trouble\" (https://analyticsindiamag.com/openai-might-invite-legal-trouble/). Analytics India Magazine March 21, 2023. OpenAI GPT-4o is a multimodal AI that it claims is state-of-the-art. Rijmen, Mark: The Future of AI Interactions Is Here. The New ChatGPT Can \\'See\\' and \\'Talk.\\' Here\\'s What It\\'s Like. GPT-4o delivers human-like AI interaction with text, audio, and vision integration. \"Hello GPT- 4o\" (https://openai.com/index/hello-gpt-4O/). OpenAI. Archived (https:web.archive.org/web/20240518131148/https://www.artificialintelligence-news.com/) from the original on May 18, 2024. \"CLIP: Connecting Text and Images\" ( https://openAI.com /blog/clip/) January 5, 2021. \"OpenAI\\'s chatbot\" (https://www.sciencefocus.com/news/chatgpt-scientist-openai-chatbot/). BBC Science Focus Magazine. 2022. Archived from the original on February 3, 2023. \"OpenAI Reveals \\'Sora\\': Realistic Text Prompts\" (February 15, 2024). \"DALL·E 3 is now available in ChatGPT Plus and Enterprise\" \"OpenAI\\'s MuseNet generates AI music at the push of a button\" (https://www.theverge.com/2019/4/26/18517803/openai-musenet-artificial-intelligence-ai-music-generation-lady-gaga-harry-potter-mozart) from the original on June 8, 2020. \"Arcade Attack Podcast – September (4 of 4) 2020 - Alex Hall (Ben Drowned) - Interview\" (http://www-arcadeattack.co.uk/ podcast-september-4-2020/). Arcade Attack. \"OpenAI introduces Jukebox, a new AI model that generates genre-specific music\" (https://www.businessinsider.com/jukebox-ai-music-generator-realistic-songs-machine-learning-algorithm-deepfakes-2020-5) from the original on June 8, 2020. \"OpenAI launches Microscope to visualize the neurons in popular machine learning models\" \"Why Scientists Think AI Systems Should Debate Each Other\" \"Pricing\" (https://openai.com/pricing) from the original on March 20, 2023. \"#cite_ref-218) \"OpenAI\\'s GPT-4 exhibits \"human-level performance\" on professional benchmarks\" (http://www.theverge.org/2023/7/25/23807012/chatgpt-android-ai-chatbot-openai-llm) \"ChatGPT can now see, hear, and speak\" (https://openai.com/blog/chatgpt-can-now-see-hear-and-speak) from the original on August 17, 2023. \"The New ChatGPT Can \\'See\\' and \\'Talk.\\' Here\\'s What It\\'s Like\" (http://www.nytimes.com/) from September 27. \"OpenAI Search-powered AI-powered search engine\" (July 25, 2024) \"With Google in its sights, OpenAI unveils SearchGPT\" (https://techcrunch.com/2024/07/25/with-google-in-its-sights-openai-unveils-searchgpt/). TechCrunch. Archived from the original on July 26, 2024. \"Microsoft and OpenAI Plot $100 Billion Stargate AI Supercomputer\" (http://www.theinformation.com/. The Information (/wiki/The_Information_(website). March 29, 2024). \"Details emerge of surprise board coup that ousted CEO Sam Altman at OpenAI\" (https://arstechnica.com/information-technology/2023/11/report-sutskever-led-board-coup-at-openai-that-ousted-altman-over-ai-safety-concerns/). Ars Technica. Retrieved November 18, 2023. \"Microsoft hires former OpenAI CEO Sam Altman\" (https://www.theverge.com/2023/11/20/23968829/Microsoft-hires-sam-altman-greg-brockman-employees-openai) from the original on November 20, 2023. \"Exclusive: OpenAI investors considering suing the board after CEO\\'s abrupt firing\" \"OpenAI staff Near Total Mutiny With Threat to Jump to Microsoft\" Some at OpenAI believe Q* (pronounced Q-Star) could be a breakthrough in the startup\\'s search for what\\'s known as artificial general intelligence. OpenAI defines AGI as autonomous systems that surpass humans in most economically valuable tasks. Some at Openai believe Q*. could be an AI breakthrough ahead of CEO ouster. \"Microsoft ditches OpenAI board observer seat amid regulatory scrutiny\" (https://www.channelnewsasia.com/business/Microsoft-ditches-openai-board-observer-seat-amid-regulatory-scrutiny-4469086) from the original on July 11, 2024. \"ChatGPT can talk, but OpenAI employees sure can\\'t\" \"OpenAI sends internal memo releasing former employees from controversial exit agreements\" (https://www.cnbc.com/2024/05/24/openai-sends-internal-memo-releasing-former-employees-from-non-disparagement-agreements-sam-altman.html) from the original on May 30, 2024. \"Sarah Silverman sues OpenAI, Meta for being \"industrial-strength plagiarists\" from July 10, 2023. \"Grisham, Martin join authors suing OpenAI: There is nothing fair about this\" from August 23, 20 23. R. R. Martin, Jodi Picoult and other famous writers join Authors Guild in class action lawsuit against OpenAI. The datasets likely contained \"more than 100,000 published books\" … central to its allegations that OpenAI used copyrighted materials to train AI models. \"OpenAI Quietly Deletes Ban on Using ChatGPT for \"Military and Warfare\" \" (https://theintercept.com/2024/01/12/open-ai-military-ban-chatgpt/). January 12, 2024. \"ChatGPT verbreitet falsche Infos über Personen – und OpenAI kann nichts tun\" (http://www.noyb.eu/de/chatgPT-provides-false-information-about-people-and-openai-cant-correct-it) OpenAI is an artificial intelligence company based in San Francisco, California. The company has been accused of using its technology to influence elections in Russia, China, and Israel. It has been sued for $3 billion over alleged ChatGPT \\'privacy violations\\' in the past. It is currently working on a new version of its website.'"
      ]
     },
     "execution_count": 84,
     "metadata": {},
     "output_type": "execute_result"
    }
   ],
   "source": [
    "import torch\n",
    "from transformers import pipeline\n",
    "device = torch.device(\"mps\" if torch.backends.mps.is_available() else \"cpu\")\n",
    "device=\"cpu\"\n",
    "summarizer = pipeline(\"summarization\", model=\"facebook/bart-large-cnn\", device=device)\n",
    "max_chunk_size = 1000\n",
    "inputs = summarizer.tokenizer(doc_string, return_tensors=\"pt\", truncation=False)\n",
    "tokens = inputs.input_ids[0]\n",
    "chunks = [tokens[i:i+max_chunk_size] for i in range(0, len(tokens), max_chunk_size)]\n",
    "summaries = []\n",
    "for chunk in chunks:\n",
    "    chunk_text = summarizer.tokenizer.decode(chunk, skip_special_tokens=True)\n",
    "    summary = summarizer(chunk_text, truncation=True, max_length=150)[0]['summary_text']\n",
    "    summaries.append(summary)\n",
    "final_summary = \" \".join(summaries)\n",
    "final_summary\n"
   ]
  },
  {
   "cell_type": "code",
   "execution_count": 87,
   "metadata": {},
   "outputs": [
    {
     "name": "stdout",
     "output_type": "stream",
     "text": [
      "hype\" (https://www.theverge.com/2017/8/14/16141938/dota-2-openai-bots-elon-musk-artificial-intelligence) from the original on June 26, 2018. \"#cite_ref-129) Savov, Vlad (August 14, 2017). \"My favoritegame has been invasion by killerAI bots and Musk hype.\" (https:www. theverger.co.uk/news/articles/2018-06-25/musK-backed-bot-conquers-e-gamer-teams-in-ai-break \"The International 2018: Results\" (https://blog.openai.com/the-international-2018-results/). blog.openAI.com. July 18, 2018. Archived on February 13, 2019. (#cite_ref-137) Vincent, James (June 25, 2018). \"AI bots trained for 180 years a day to beat humans at Dota 2\" \"Pro Gamers Fend off Elon Musk-Backed AI Bots—for Now\" OpenAI's Dota 2 bot defeated 99.4% of players in public matches, according to Venture Beat. #cite_ref-145: Fangasadha, Edbert Felix, Soeroredjo, Steffi; Anderies; Gunawan, Alexander Agung Santoso (September 17, 2022).\n"
     ]
    }
   ],
   "source": [
    "print(' '.join(final_summary.split()[800:900]))"
   ]
  },
  {
   "cell_type": "code",
   "execution_count": 53,
   "metadata": {},
   "outputs": [
    {
     "data": {
      "text/plain": [
       "'Main menu Main page Contents Current events Random article About Wikipedia Contact us Donate Help Learn to edit Community portal Recent changes Upload file     Search Appearance Create account Log in Personal tools Create account Log in learn more Contributions Talk 1 History Toggle History subsection 1.1 2015–2018: Non-profit beginnings 1.2 2019: Transition from non-profit 1.3 2020–2023: ChatGPT, DALL-E, partnership with Microsoft 1.4 2024–present: Public/non-profit efforts, Sora, partnership with Apple 2 Participants Toggle Participants subsection 2.1 Key employees 2.2 Board of directors of the OpenAI nonprofit 2.3 Principal individual investors [ 99 ] 2.4 Corporate investors 3 Motives 4 Strategy 5 Products and applications Toggle Products and applications subsection 5.1 Reinforcement learning 5.1.1 Gym 5.1.1.1 Gym Retro 5.1.2 RoboSumo 5.1.3 OpenAI Five 5.1.4 Dactyl 5.2 API 5.3 Text generation 5.3.1 OpenAI\\'s original GPT model (\"GPT-1\") 5.3.2 GPT-2 5.3.3 GPT-3 5.3.4 Codex 5.3.5 GPT-4 5.3.6 GPT-4o 5.3.7 o1 5.4 Image classification 5.4.1 CLIP 5.5 Text-to-image 5.5.1 DALL-E 5.5.1.1 DALL-E 2 5.5.1.2 DALL-E 3 5.6 Text-to-video 5.6.1 Sora 5.7 Speech-to-text 5.7.1 Whisper 5.8 Music generation 5.8.1 MuseNet 5.8.2 Jukebox 5.9 User interfaces 5.9.1 Debate Game 5.9.2 Microscope 5.9.3 ChatGPT 5.9.4 SearchGPT 5.10 Stargate and other supercomputers 6 Controversies Toggle Controversies subsection 6.1 Firing of Altman 6.2 Content moderation contract with Sama 6.3 Lack of technological transparency 6.4 Non-disparagement agreement 6.5 Copyright infringement in training data 6.6 GDPR compliance 6.7 Removal of military and warfare clause 6.8 Use in state-backed influence operations 6.9 Data scraping 7 See also 8 Notes 9 References 10 Further reading 11 External links Toggle the table of contents OpenAI 82 languages Afrikaans Ænglisc العربية Azərbaycanca বাংলা 閩南語 / Bân-lâm-gú Беларуская भोजपुरी Български Boarisch Bosanski Brezhoneg Català Čeština Cymraeg الدارجة Deutsch Eesti Ελληνικά Español Esperanto Euskara فارسی Français Gaeilge Galego 한국어 Հայերեն हिन्दी Ido Bahasa Indonesia Íslenska Italiano עברית Jawa Қазақша Кыргызча Latviešu Lietuvių Magyar Македонски മലയാളം मराठी مصرى Bahasa Melayu မြန်မာဘာသာ Nederlands 日本語 Norsk bokmål Norsk nynorsk Oʻzbekcha / ўзбекча ਪੰਜਾਬੀ پښتو Polski Português Qaraqalpaqsha Română Runa Simi Русский Scots Shqip Simple English Slovenščina Soomaaliga کوردی Српски / srpski Srpskohrvatski / српскохрватски Suomi Svenska Tagalog தமிழ் Татарча / tatarça తెలుగు ไทย Тоҷикӣ Türkçe Українська اردو ئۇيغۇرچە / Uyghurche Tiếng Việt 粵語 中文 Edit links (https://www.wikidata.org/wiki/Special:EntityPage/Q21708200#sitelinks-wikipedia) Article Talk English Read Edit View history Tools Read Edit View history What links here Related changes Upload file Special pages Permanent link Page information Cite this page Get shortened URL Download QR code Wikidata item Download as PDF Printable version Wikimedia Commons ; 8 years ago ( 2015-12-11 ) [ ] [ ] [ ] −540 [ ] 1,700 [ ] [ ] openai (https://openai.com/) .com (https://openai.com/) [ ] [ ] [ ] [ ] [ ] [ ] [ ] [ ] [ ] [ edit ] [ edit ] [ ] [ ] [ ] [ ] [ ] [ ] [ ] [ ] [ ] [ ] [ ] [ ] [ ] [ ] [ ] [ ] [ ] [ ] [ ] [ ] [ ] [ ] [ ] [ ] [ ] [ edit ] [ ] [ ] [ ] [ ] [ ] [ ] [ ] [ ] [ ] [ ] [ ] [ ] [ ] [ ] [ edit ] [ ] [ ] [ ] [ ] [ ] [ ] [ ] [ ] [ ] [ ] [ ] [ ] [ ] [ ] [ ] [ ] [ ] [ ] [ ] [ ] [ ] [ ] [ ] [ ] [ ] [ ] [ edit ] [ ] [ ] [ ] [ ] [ ] [ ] [ ] [ ] [ ] [ ] [ ] [ ] [ ] [ ] [ ] [ ] [ ] [ ] [ ] [ ] [ ] [ ] [ ] [ ] [ ] [ ] [ ] [ ] [ ] [ ] [ ] [ edit ] [ edit ] [ ] [ ] [ ] [ ] [ ] [ ] [ edit ] [ ] [ ] [ ] [ ] [ ] [ edit ] [ ] [ ] [ edit ] [ ] [ ] [ ] [ ] [ ] [ edit ] [ ] [ ] [ ] [ ] [ ] [ ] [ ] [ ] [ ] [ edit ] [ ] [ ] [ ] [ ] [ ] [ ] [ edit ] [ edit ] [ ] [ ] [ edit ] [ ] [ ] [ ] [ ] [ edit ] [ ] [ edit ] [ ] [ ] [ ] [ ] [ edit ] [ ] [ ] [ ] [ ] [ ] [ ] [ ] [ ] [ ] [ ] [ ] [ ] [ ] [ ] [ ] [ ] [ ] [ ] [ edit ] [ ] [ ] [ ] [ edit ] [ ] [ ] [ edit ] [ ] [ edit ] [ ] [ edit ] [ ] [ ] [ ] [ ] [ ] [ ] [ ] [ ] [ edit ] [ ] [ ] [ ] [ ] [ ] [ ] [ ] [ ] [ ] [ ] [ ] [ ] [ ] [ ] [ ] [ ] [ edit ] [ ] [ ] [ ] [ ] [ ] [ ] [ ] [ ] [ ] [ edit ] [ ] [ ] [ ] [ ] [ ] [ edit ] [ ] [ ] [ ] [ ] [ ] [ edit ] [ ] [ ] [ edit ] [ edit ] [ ] [ edit ] [ edit ] [ ] [ edit ] [ ] [ ] [ edit ] [ ] [ ] [ edit ] [ edit ] [ ] [ ] [ ] [ ] [ ] [ ] [ ] [ ] [ ] [ edit ] [ edit ] [ ] [ ] [ edit ] [ edit ] [ ] [ ] [ ] [ ] [ edit ] [ ] [ ] [ ] [ edit ] [ edit ] [ ] [ ] [ edit ] [ ] [ ] [ ] [ edit ] [ ] [ ] [ ] [ ] [ ] [ ] [ ] [ ] [ ] [ ] [ ] [ ] [ ] [ ] [ ] [ ] [ edit ] [ ] [ ] [ edit ] [ ] [ ] [ ] [ ] [ ] [ ] [ ] [ ] [ ] [ ] [ edit ] [ edit ] [ ] [ ] [ ] [ ] [ ] [ ] [ ] [ ] [ ] [ ] [ ] [ ] [ ] [ ] [ ] [ ] [ ] [ ] [ ] [ ] [ ] [ ] [ ] [ edit ] [ ] [ edit ] [ ] [ edit ] [ ] [ ] [ ] [ ] [ ] [ edit ] [ ] [ ] [ ] [ ] [ ] [ ] [ ] [ ] [ ] [ ] [ ] [ ] [ ] [ edit ] [ ] [ ] [ edit ] [ ] [ ] [ ] [ edit ] [ ] [ ] [ ] [ edit ] [ ] [ edit ] [ edit ] ^ (#cite_ref-161) The term \"pre-training\" refers to general language training as distinct from fine-tuning for specific tasks. ^ (#cite_ref-169) One petaflop/s-day is approximately equal to 10 20 neural net operations. [ 167 (#cite_note-168) ] [ edit ] ^ (#cite_ref-1) \"I Tried To Visit OpenAI\\'s Office. Hilarity Ensued\" (https://sfstandard.com/technology/i-tried-to-visit-openais-office-hilarity-ensued/) . The San Francisco Standard . December 20, 2022. Archived (https://web.archive.org/web/20230603194312/https://sfstandard.com/technology/i-tried-to-visit-openais-office-hilarity-ensued/) from the original on June 3, 2023 . Retrieved June 3, 2023 . ^ a  b Metz, Cade; Isaak, Mike (September 3, 2024). \"OpenAI, Still Haunted by Its Chaotic Past, Is Trying to Grow Up\" (https://www.nytimes.com/2024/09/03/technology/openai-chatgpt-revenue.html) . New York Times (/wiki/New_York_Times) . Archived (https://web.archive.org/web/20240907201621/https://www.nytimes.com/2024/09/03/technology/openai-chatgpt-revenue.html) from the original on September 7, 2024 . Retrieved September 3, 2024 . ^ a  b Woo, Erin; Efrati, Amir (May 4, 2023). \"OpenAI\\'s Losses Doubled to $540 Million as It Developed ChatGPT\" (https://www.theinformation.com/articles/openais-losses-doubled-to-540-million-as-it-developed-chatgpt) . The Information (/wiki/The_Information_(website)) . Archived (https://web.archive.org/web/20230619191257/https://www.theinformation.com/articles/openais-losses-doubled-to-540-million-as-it-developed-chatgpt) from the original on June 19, 2023 . Retrieved June 19, 2023 . In 2022, by comparison, revenue was just $28 million, mainly from selling access to its AI software... OpenAI\\'s losses roughly doubled to around $540 million last year as it developed ChatGPT... ^ (#cite_ref-4) Efrati, Amir; Holmes, Aaron (July 24, 2024). \"Why OpenAI Could Lose $5 Billion This Year\" (https://www.theinformation.com/articles/why-openai-could-lose-5-billion-this-year) . The Information (/wiki/The_Information_(website)) . Archived (https://archive.today/20240801185619/https://www.theinformation.com/articles/why-openai-could-lose-5-billion-this-year) from the original on August 1, 2024. ^ (#cite_ref-5) \"OpenAI Charter\" (https://openai.com/charter) . openai.com . April 9, 2018. Archived (https://web.archive.org/web/20230714043611/https://openai.com/charter) from the original on July 14, 2023 . Retrieved July 11, 2023 . ^ (#cite_ref-6) \"Artificial: The OpenAI Story\" (https://www.wsj.com/tech/ai/artificial-the-openai-story-21587cbd) . WSJ . December 10, 2023. Archived (https://web.archive.org/web/20231212151657/https://www.wsj.com/tech/ai/artificial-the-openai-story-21587cbd) from the original on December 12, 2023 . Retrieved December 12, 2023 . ^ (#cite_ref-7) \"Models - OpenAI API\" (https://platform.openai.com/docs/models/overview) . OpenAI . Archived (https://archive.today/20231119121512/https://platform.openai.com/docs/models) from the original on November 19, 2023 . Retrieved November 19, 2023 . ^ (#cite_ref-8) Jindal, Siddharth (February 16, 2024). \"OpenAI Steals the Spotlight with Sora\" (https://analyticsindiamag.com/openai-steals-the-spotlight-with-sora-%E2%9C%A8/) . Analytics India Magazine . Archived (https://web.archive.org/web/20240420120154/https://analyticsindiamag.com/openai-steals-the-spotlight-with-sora-%E2%9C%A8/) from the original on April 20, 2024 . Retrieved July 10, 2024 . ^ (#cite_ref-9) \"OPENAI, INC\" (https://opencorporates.com/companies/us_de/5902936) . OpenCorporates (/wiki/OpenCorporates) . December 8, 2015. Archived (https://web.archive.org/web/20230828053254/https://opencorporates.com/companies/us_de/5902936) from the original on August 28, 2023 . Retrieved August 2, 2023 . ^ a  b  c  d \"Our structure\" (https://openai.com/our-structure) . OpenAI . June 28, 2023. Archived (https://web.archive.org/web/20230729203855/https://openai.com/our-structure) from the original on July 29, 2023. ^ (#cite_ref-11) \"Sam Altman Joins Microsoft After OpenAI Ousting\" (https://time.com/6337503/sam-altman-joins-microsoft-ai/) . Time . November 20, 2023. Archived (https://web.archive.org/web/20240625064602/https://time.com/6337503/sam-altman-joins-microsoft-ai/) from the original on June 25, 2024 . Retrieved June 25, 2024 . ^ (#cite_ref-12) Roth, Emma (March 13, 2023).'"
      ]
     },
     "execution_count": 53,
     "metadata": {},
     "output_type": "execute_result"
    }
   ],
   "source": [
    "chunks[0]"
   ]
  },
  {
   "cell_type": "code",
   "execution_count": 105,
   "metadata": {},
   "outputs": [],
   "source": [
    "import openai\n",
    "prompt = f\"\"\"\n",
    "Based on the following content: {final_summary} generate 10-15 questions \n",
    "that will help readers understand the content better then provide\n",
    "informative answers to these questions.\n",
    "Provide these answers in the format Question: Answer\n",
    "\"\"\"\n",
    "\n",
    "\n",
    "response = openai.chat.completions.create(\n",
    "  model=\"gpt-3.5-turbo\",\n",
    "  messages=[\n",
    "      {\"role\": \"system\", \"content\": \"You are a helpful assistant who generates FAQs from website content.\"},\n",
    "      {\"role\": \"user\", \"content\": prompt},\n",
    "\n",
    "  ]\n",
    ")\n",
    "# print(response.choices[0].text.strip())\n",
    "# response['choices'][0]['message']['content']"
   ]
  },
  {
   "cell_type": "code",
   "execution_count": 106,
   "metadata": {},
   "outputs": [
    {
     "data": {
      "text/plain": [
       "['Question: What are some of the key models developed by OpenAI?',\n",
       " 'Answer: OpenAI has developed models such as GPT-1, GPT-2, GPT-3, Codex, Whisper, Music generation models like MuseNet and Jukebox, as well as ChatGPT and Stargate supercomputers.',\n",
       " \"Question: What is OpenAI's revenue situation and recent funding developments?\",\n",
       " \"Answer: OpenAI's losses doubled to around $540 million in the previous year, and the company has raised $124 million in funding so far. It is expected to reach $1 billion in revenue by 2024 and is in talks to secure an additional $100 million in new funding.\",\n",
       " 'Question: What are some notable collaborations and partnerships involving OpenAI?',\n",
       " 'Answer: OpenAI has partnerships with Microsoft, including significant investments in the company. It has also announced partnerships with universities and has collaborated with Reddit, Vox, and The Atlantic. ',\n",
       " 'Question: What are some controversies surrounding OpenAI?',\n",
       " 'Answer: OpenAI has faced controversies such as legal action from Elon Musk, concerns about technological transparency, copyright infringement accusations in training data, and issues with content moderation contracts. The company has also been criticized for its involvement in state-backed influence operations.',\n",
       " \"Question: What is the significance of AGI and Q* in OpenAI's research?\",\n",
       " 'Answer: OpenAI is focused on achieving Artificial General Intelligence (AGI), which refers to autonomous systems surpassing humans in economically valuable tasks. Q* is seen as a potential breakthrough in AGI research, with some believing it could be an AI breakthrough ahead of leadership changes at the company.']"
      ]
     },
     "execution_count": 106,
     "metadata": {},
     "output_type": "execute_result"
    }
   ],
   "source": [
    "import re\n",
    "answer = response.choices[0].message.content\n",
    "faq_list = re.split(r\"\\n+\", answer)\n",
    "faq_list"
   ]
  },
  {
   "cell_type": "code",
   "execution_count": 104,
   "metadata": {},
   "outputs": [
    {
     "data": {
      "text/plain": [
       "28"
      ]
     },
     "execution_count": 104,
     "metadata": {},
     "output_type": "execute_result"
    }
   ],
   "source": [
    "len(faq_list)"
   ]
  }
 ],
 "metadata": {
  "kernelspec": {
   "display_name": "base",
   "language": "python",
   "name": "python3"
  },
  "language_info": {
   "codemirror_mode": {
    "name": "ipython",
    "version": 3
   },
   "file_extension": ".py",
   "mimetype": "text/x-python",
   "name": "python",
   "nbconvert_exporter": "python",
   "pygments_lexer": "ipython3",
   "version": "3.12.4"
  }
 },
 "nbformat": 4,
 "nbformat_minor": 2
}
